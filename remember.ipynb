{
 "cells": [
  {
   "cell_type": "markdown",
   "metadata": {},
   "source": [
    "# Server Side Code"
   ]
  },
  {
   "cell_type": "code",
   "execution_count": 1,
   "metadata": {
    "collapsed": false
   },
   "outputs": [],
   "source": [
    "#Server side code that runs on Azure Functions\n",
    "import os, sys\n",
    "import json\n",
    "\n",
    "response = open(os.environ['res'], 'w')\n",
    "\n",
    "try:\n",
    "  requestdata = open(os.environ['req']).read()\n",
    "  postreqdata = json.loads(requestdata)\n",
    "except:\n",
    "  response.write('Please POST a JSON request in the format {\"text\":\"sometext\"}')\n",
    "  response.write('\\nData received:'+requestdata)\n",
    "  sys.exit(0)\n",
    "\n",
    "import shutil\n",
    "from time import strftime, gmtime\n",
    "now = strftime(\"%Y-%m-%dT%H:%M:%S\", gmtime())\n",
    "shutil.copy(os.environ['inputBlob'], os.environ['outputBlob'])\n",
    "f = open(os.environ['outputBlob'], 'a')\n",
    "line = ''.join(['\\nUTC ',now,'::',postreqdata['text']])\n",
    "f.write(line)\n",
    "f.close()\n",
    "f = open(os.environ['outputBlob'], 'r')\n",
    "contents = f.read()\n",
    "f.close\n",
    "\n",
    "response.write(contents)\n",
    "response.close()"
   ]
  },
  {
   "cell_type": "markdown",
   "metadata": {},
   "source": [
    "#### Server-side configuration (function.json)\n",
    "\n",
    "`{\n",
    "  \"bindings\": [\n",
    "    {\n",
    "      \"authLevel\": \"function\",\n",
    "      \"type\": \"httpTrigger\",\n",
    "      \"direction\": \"in\",\n",
    "      \"name\": \"req\",\n",
    "      \"methods\": [\n",
    "        \"post\"\n",
    "      ]\n",
    "    },\n",
    "    {\n",
    "      \"type\": \"http\",\n",
    "      \"direction\": \"out\",\n",
    "      \"name\": \"res\"\n",
    "    },\n",
    "    {\n",
    "      \"type\": \"blob\",\n",
    "      \"name\": \"inputBlob\",\n",
    "      \"path\": \"blobcontainer/remember.txt\",\n",
    "      \"connection\": \"cloudmaticafunc9b4c_STORAGE\",\n",
    "      \"direction\": \"in\"\n",
    "    },\n",
    "    {\n",
    "      \"type\": \"blob\",\n",
    "      \"name\": \"outputBlob\",\n",
    "      \"path\": \"blobcontainer/remember.txt\",\n",
    "      \"connection\": \"cloudmaticafunc9b4c_STORAGE\",\n",
    "      \"direction\": \"out\"\n",
    "    }\n",
    "  ],\n",
    "  \"disabled\": false\n",
    "}`"
   ]
  },
  {
   "cell_type": "markdown",
   "metadata": {
    "collapsed": false
   },
   "source": [
    "# Client side Python - Test"
   ]
  },
  {
   "cell_type": "code",
   "execution_count": 15,
   "metadata": {
    "collapsed": false
   },
   "outputs": [
    {
     "name": "stdout",
     "output_type": "stream",
     "text": [
      "inputText2017-08-12 02:02:172017-08-12 02:02:312017-08-12 02:02:372017-08-12 02:02:402017-08-12 02:04:122017-08-12 02:06:102017-08-12 02:10:492017-08-12 02:11:36Python Function AppPython Function AppPython Function App\r\n",
      "2017-08-12 12:09:16 UTC Python Function App\r\n",
      "UTC 2017-08-12 12:15:33::Python Function App\r\n",
      "UTC 2017-08-12 12:17:06::remember - Python Function App\r\n",
      "UTC 2017-08-12 12:17:16::remember - Python Function App\r\n",
      "UTC 2017-08-12 12:17:30::remember - Python Function App\r\n",
      "UTC 2017-08-12 12:17:34::remember - Python Function App\r\n",
      "UTC 2017-08-12 12:37:52::remember - Python Function App\r\n",
      "UTC 2017-08-12 12:46:23::Hello Nithin\r\n",
      "UTC 2017-08-12T12:54:00::Hello Nithin\r\n",
      "UTC 2017-08-12T12:54:53::Hello from Jupyter\r\n",
      "UTC 2017-08-12T12:55:29::Hello from Jupyter\r\n",
      "UTC 2017-08-12T12:57:14::Hello from Jupyter\r\n",
      "UTC 2017-08-12T12:57:25::Hello from Jupyter\r\n",
      "UTC 2017-08-12T23:41:21::hello\r\n",
      "UTC 2017-08-12T23:41:30::hello\r\n",
      "UTC 2017-08-12T23:44:15::hello\r\n",
      "UTC 2017-08-12T23:44:35::hello\r\n",
      "UTC 2017-08-12T23:45:13::Hi Vijay\r\n",
      "UTC 2017-08-12T23:50:03::Hello Nithin\r\n",
      "UTC 2017-08-13T01:47:23::Hello from Jupyter\r\n",
      "UTC 2017-08-13T01:48:46::Hello from Jupyter\r\n",
      "UTC 2017-08-13T02:16:16::Hello from Jupyter\r\n",
      "UTC 2017-08-13T02:16:54::Hello from Jupyter\r\n",
      "UTC 2017-08-13T02:18:08::hello\r\n",
      "UTC 2017-08-13T02:20:49::hi\r\n",
      "UTC 2017-08-13T02:21:05::how are you?\r\n",
      "UTC 2017-08-13T02:23:55::Vijay\r\n",
      "UTC 2017-08-13T02:24:25::contigo\r\n",
      "UTC 2017-08-13T02:24:38::contigo\r\n",
      "UTC 2017-08-13T02:25:33::Hello from Jupyter\r\n",
      "UTC 2017-08-13T02:25:46::Hello from Jupyter\r\n",
      "UTC 2017-08-13T02:25:57::contigo\r\n",
      "UTC 2017-08-13T02:26:19::frompython\r\n",
      "UTC 2017-08-13T02:26:26::frompython\r\n",
      "UTC 2017-08-13T02:32:10::Text from postdata.txt\r\n",
      "UTC 2017-08-13T02:32:48::Text from postdata.txt\r\n",
      "UTC 2017-08-13T02:33:01::Text from postdata.txt\r\n",
      "UTC 2017-08-13T02:33:15::Text from postdata.txt\r\n",
      "UTC 2017-08-13T02:33:24::Text from postdata.txt\r\n",
      "UTC 2017-08-13T09:08:22::Text from postdata.txt\r\n",
      "UTC 2017-08-13T09:08:29::Text from postdata.txt\r\n",
      "UTC 2017-08-13T09:09:52::hello world\r\n",
      "UTC 2017-08-13T09:10:47::from remember.exe\r\n",
      "UTC 2017-08-13T09:10:59::Text from postdata.txt\r\n",
      "UTC 2017-08-13T09:57:43::remember - Python Function App\r\n",
      "UTC 2017-08-13T10:01:36::Text from remember.html (AJAX post)\r\n",
      "UTC 2017-08-13T10:02:30::Text from remember.html (AJAX post)\r\n",
      "UTC 2017-08-13T10:02:56::Text from remember.html (AJAX post)\r\n",
      "UTC 2017-08-13T10:05:58::Text from remember.html (AJAX post)\r\n",
      "UTC 2017-08-13T10:26:43::Hello from Jupyter\n"
     ]
    }
   ],
   "source": [
    "#See remember.py for a script that includes argument parsing on the command line\n",
    "import requests, json\n",
    "payload = '{\"text\":\"Hello from Jupyter\"}'\n",
    "r = requests.post('https://cloudmaticafunctions.azurewebsites.net/api/remember?code=VavYQv2lFrkUaB82HjsQ9lZDkeaW8kyx6Srznr7pEQGH1gDK82F2uA==',data=payload)\n",
    "output = json.loads(r.text)\n",
    "print(output)\n"
   ]
  },
  {
   "cell_type": "markdown",
   "metadata": {},
   "source": [
    "# Client side Python - remember.py (with argument parsing)"
   ]
  },
  {
   "cell_type": "code",
   "execution_count": null,
   "metadata": {
    "collapsed": true
   },
   "outputs": [],
   "source": [
    "#USAGE: python remember.py \"Python from command line\"\n",
    "import argparse\n",
    "parser = argparse.ArgumentParser()\n",
    "parser.add_argument('inputText', help='Text string that you want to remember')\n",
    "args = parser.parse_args()\n",
    "if args.inputText:\n",
    "  import requests\n",
    "  import queue\n",
    "  #from multiprocessing import Queue      #This statement is need to avoid a pyinstaller error\n",
    "  import json\n",
    "  payload = '{\"text\":\"'+args.inputText+'\"}'\n",
    "  r = requests.post('https://cloudmaticafunctions.azurewebsites.net/api/remember?code=VavYQv2lFrkUaB82HjsQ9lZDkeaW8kyx6Srznr7pEQGH1gDK82F2uA==',data=payload)\n",
    "  print(json.loads(r.text))"
   ]
  },
  {
   "cell_type": "markdown",
   "metadata": {},
   "source": [
    "### Compile to remember.exe using pyinstaller\n",
    "\n",
    "##### build.cmd\n",
    "`c:\\python34\\scripts\\pyinstaller --onefile remember.py`\n",
    "\n",
    "##### Launch remember.exe\n",
    "`dist\\remember.exe \"called from remember.exe\"`\n"
   ]
  },
  {
   "cell_type": "markdown",
   "metadata": {},
   "source": [
    "# Command Line Client - run.cmd\n",
    "\n",
    "`curl -X POST -d @postdata.txt https://cloudmaticafunctions.azurewebsites.net/api/remember?code=VavYQv2lFrkUaB82HjsQ9lZDkeaW8kyx6Srznr7pEQGH1gDK82F2uA==`"
   ]
  },
  {
   "cell_type": "code",
   "execution_count": 18,
   "metadata": {
    "collapsed": false
   },
   "outputs": [
    {
     "name": "stdout",
     "output_type": "stream",
     "text": [
      "\n",
      "C:\\wamp\\www\\azureFunctions\\remember>curl -X POST -d @postdata.txt https://cloudmaticafunctions.azurewebsites.net/api/remember?code=VavYQv2lFrkUaB82HjsQ9lZDkeaW8kyx6Srznr7pEQGH1gDK82F2uA== \n",
      "\"inputText2017-08-12 02:02:172017-08-12 02:02:312017-08-12 02:02:372017-08-12 02:02:402017-08-12 02:04:122017-08-12 02:06:102017-08-12 02:10:492017-08-12 02:11:36Python Function AppPython Function AppPython Function App\\r\\n2017-08-12 12:09:16 UTC Python Function App\\r\\nUTC 2017-08-12 12:15:33::Python Function App\\r\\nUTC 2017-08-12 12:17:06::remember - Python Function App\\r\\nUTC 2017-08-12 12:17:16::remember - Python Function App\\r\\nUTC 2017-08-12 12:17:30::remember - Python Function App\\r\\nUTC 2017-08-12 12:17:34::remember - Python Function App\\r\\nUTC 2017-08-12 12:37:52::remember - Python Function App\\r\\nUTC 2017-08-12 12:46:23::Hello Nithin\\r\\nUTC 2017-08-12T12:54:00::Hello Nithin\\r\\nUTC 2017-08-12T12:54:53::Hello from Jupyter\\r\\nUTC 2017-08-12T12:55:29::Hello from Jupyter\\r\\nUTC 2017-08-12T12:57:14::Hello from Jupyter\\r\\nUTC 2017-08-12T12:57:25::Hello from Jupyter\\r\\nUTC 2017-08-12T23:41:21::hello\\r\\nUTC 2017-08-12T23:41:30::hello\\r\\nUTC 2017-08-12T23:44:15::hello\\r\\nUTC 2017-08-12T23:44:35::hello\\r\\nUTC 2017-08-12T23:45:13::Hi Vijay\\r\\nUTC 2017-08-12T23:50:03::Hello Nithin\\r\\nUTC 2017-08-13T01:47:23::Hello from Jupyter\\r\\nUTC 2017-08-13T01:48:46::Hello from Jupyter\\r\\nUTC 2017-08-13T02:16:16::Hello from Jupyter\\r\\nUTC 2017-08-13T02:16:54::Hello from Jupyter\\r\\nUTC 2017-08-13T02:18:08::hello\\r\\nUTC 2017-08-13T02:20:49::hi\\r\\nUTC 2017-08-13T02:21:05::how are you?\\r\\nUTC 2017-08-13T02:23:55::Vijay\\r\\nUTC 2017-08-13T02:24:25::contigo\\r\\nUTC 2017-08-13T02:24:38::contigo\\r\\nUTC 2017-08-13T02:25:33::Hello from Jupyter\\r\\nUTC 2017-08-13T02:25:46::Hello from Jupyter\\r\\nUTC 2017-08-13T02:25:57::contigo\\r\\nUTC 2017-08-13T02:26:19::frompython\\r\\nUTC 2017-08-13T02:26:26::frompython\\r\\nUTC 2017-08-13T02:32:10::Text from postdata.txt\\r\\nUTC 2017-08-13T02:32:48::Text from postdata.txt\\r\\nUTC 2017-08-13T02:33:01::Text from postdata.txt\\r\\nUTC 2017-08-13T02:33:15::Text from postdata.txt\\r\\nUTC 2017-08-13T02:33:24::Text from postdata.txt\\r\\nUTC 2017-08-13T09:08:22::Text from postdata.txt\\r\\nUTC 2017-08-13T09:08:29::Text from postdata.txt\\r\\nUTC 2017-08-13T09:09:52::hello world\\r\\nUTC 2017-08-13T09:10:47::from remember.exe\\r\\nUTC 2017-08-13T09:10:59::Text from postdata.txt\\r\\nUTC 2017-08-13T09:57:43::remember - Python Function App\\r\\nUTC 2017-08-13T10:01:36::Text from remember.html (AJAX post)\\r\\nUTC 2017-08-13T10:02:30::Text from remember.html (AJAX post)\\r\\nUTC 2017-08-13T10:02:56::Text from remember.html (AJAX post)\\r\\nUTC 2017-08-13T10:05:58::Text from remember.html (AJAX post)\\r\\nUTC 2017-08-13T10:26:43::Hello from Jupyter\\r\\nUTC 2017-08-13T10:28:55::Python from command line\\r\\nUTC 2017-08-13T10:42:19::Text from postdata.txt\"\n",
      "Wall time: 3.25 s\n"
     ]
    },
    {
     "name": "stderr",
     "output_type": "stream",
     "text": [
      "  % Total    % Received % Xferd  Average Speed   Time    Time     Time  Current\n",
      "                                 Dload  Upload   Total   Spent    Left  Speed\n",
      "\n",
      "  0     0    0     0    0     0      0      0 --:--:-- --:--:-- --:--:--     0\n",
      "100    33    0     0  100    33      0     24  0:00:01  0:00:01 --:--:--    24\n",
      "100    33    0     0  100    33      0     14  0:00:02  0:00:02 --:--:--    14\n",
      "100  2695  100  2662  100    33    831     10  0:00:03  0:00:03 --:--:--   831\n",
      "100  2695  100  2662  100    33    831     10  0:00:03  0:00:03 --:--:--   831\n"
     ]
    }
   ],
   "source": [
    "%%time\n",
    "!run.cmd"
   ]
  },
  {
   "cell_type": "markdown",
   "metadata": {},
   "source": [
    "# Browser Client - remember.html\n",
    "\n",
    "This is a bootstrap page that calls the Azure function through AJAX\n",
    "\n",
    "Here is the code that does it:\n",
    "`            var data = '{\"text\":\"Text from remember.html (AJAX post)\"}';\n",
    "            $.post( \"https://cloudmaticafunctions.azurewebsites.net/api/remember?code=VavYQv2lFrkUaB82HjsQ9lZDkeaW8kyx6Srznr7pEQGH1gDK82F2uA==\", data, function( result ) {\n",
    "              $( \".result\" ).html( result );\n",
    "            });\n",
    "\n",
    "`\n",
    "\n",
    "[This page is published here](https://cloudmaticafunc9b4c.blob.core.windows.net/blobcontainer/remember.html)\n"
   ]
  }
 ],
 "metadata": {
  "kernelspec": {
   "display_name": "Python 3",
   "language": "python",
   "name": "python3"
  },
  "language_info": {
   "codemirror_mode": {
    "name": "ipython",
    "version": 3
   },
   "file_extension": ".py",
   "mimetype": "text/x-python",
   "name": "python",
   "nbconvert_exporter": "python",
   "pygments_lexer": "ipython3",
   "version": "3.6.0"
  }
 },
 "nbformat": 4,
 "nbformat_minor": 2
}
